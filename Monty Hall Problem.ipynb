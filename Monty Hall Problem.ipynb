{
 "cells": [
  {
   "cell_type": "markdown",
   "metadata": {},
   "source": [
    "有A B C 三个门，随机其中一个门后面藏有一辆车\n",
    "你从这三个门中随机挑选一个门，认为这就是那个后面有车的门\n",
    "主持人打开另一扇门，门的后面并没有车\n",
    "此时你决定要不要重新挑选，假如重新挑选\n",
    "命中的概率会不会变大"
   ]
  },
  {
   "cell_type": "code",
   "execution_count": 69,
   "metadata": {},
   "outputs": [
    {
     "name": "stdout",
     "output_type": "stream",
     "text": [
      "nonchange： 0.3351\n",
      "change： 0.6692\n"
     ]
    }
   ],
   "source": [
    "import random\n",
    "\n",
    "def play_game(strategy = 'nonchange'):\n",
    "    # 分别有三道门，编号为0，1，2；门后面分别有羊，羊和汽车车\n",
    "    door = [0,1,2]\n",
    "    gifts = ['goat','goat','car']\n",
    "    \n",
    "    # 打乱gifts内元素的顺序\n",
    "    random.shuffle(gifts)\n",
    "    \n",
    "    # 参赛者随机挑中一道门\n",
    "    viewer_choice = random.choice(door)\n",
    "    \n",
    "    # 主持人打开一扇没有车的门，获得该门的编号\n",
    "    has_open = random.choice(list(filter(lambda x: gifts[x]=='goat' and x != viewer_choice,door)))\n",
    "    \n",
    "    #标记另一扇门，获取该门的编号    \n",
    "    viewer_left = list(filter(lambda x: x != viewer_choice and x != has_open,door))[0]\n",
    "    \n",
    "    #观众根据策略获得奖品,如果改变策略，那么后面的判断条件为真，真则代表1，1就通过索引选中后面一个    \n",
    "    viewer_prize = [gifts[viewer_choice],gifts[viewer_left]][strategy == 'change']\n",
    "    \n",
    "    #如果是车，返回1，不是车返回0，方便计数\n",
    "    return [0,1][viewer_prize == 'car']\n",
    "\n",
    "n = 10000\n",
    "\n",
    "# 计算当策略为不更换时，模拟n次，选中的概率\n",
    "p = sum((play_game(strategy = 'nonchange') for _ in range(n)))/n\n",
    "print('nonchange：',p)\n",
    "\n",
    "# 计算当策略为更换时，模拟n次，选中的概率\n",
    "p = sum((play_game(strategy = 'change') for _ in range(n)))/n\n",
    "print('change：',p)\n"
   ]
  },
  {
   "cell_type": "code",
   "execution_count": null,
   "metadata": {},
   "outputs": [],
   "source": []
  }
 ],
 "metadata": {
  "kernelspec": {
   "display_name": "Python 3",
   "language": "python",
   "name": "python3"
  },
  "language_info": {
   "codemirror_mode": {
    "name": "ipython",
    "version": 3
   },
   "file_extension": ".py",
   "mimetype": "text/x-python",
   "name": "python",
   "nbconvert_exporter": "python",
   "pygments_lexer": "ipython3",
   "version": "3.6.4"
  }
 },
 "nbformat": 4,
 "nbformat_minor": 2
}
